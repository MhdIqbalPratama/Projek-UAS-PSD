{
 "cells": [
  {
   "cell_type": "markdown",
   "metadata": {},
   "source": [
    "Projek UTS PSD"
   ]
  },
  {
   "cell_type": "code",
   "execution_count": 1,
   "metadata": {},
   "outputs": [],
   "source": [
    "import pandas as pd\n",
    "import matplotlib.pyplot as plt\n",
    "import seaborn as sns"
   ]
  },
  {
   "cell_type": "code",
   "execution_count": 2,
   "metadata": {},
   "outputs": [],
   "source": [
    "#Mengimport 2 dataset tentang kasus DBD berdasarkan Gender\n",
    "#Data Kasus DBD based on gender\n",
    "df1 = pd.read_csv(r'C:\\Users\\LENOVO\\Documents\\105220042_MhdIqbalPratama_Tugas2\\Tubes\\dinkes-od_17308_jml_kasus_demam_berdarah_dengue_dbd__jk_data.csv')\n",
    "#Data Kasus Meninggal based on gender\n",
    "df2 = pd.read_csv(r'C:\\Users\\LENOVO\\Documents\\105220042_MhdIqbalPratama_Tugas2\\Tubes\\dinkes-od_17309_jml_kasus_meninggal_demam_berdarah_dengue_dbd__jk_data.csv')"
   ]
  },
  {
   "cell_type": "code",
   "execution_count": 3,
   "metadata": {},
   "outputs": [
    {
     "name": "stdout",
     "output_type": "stream",
     "text": [
      "<class 'pandas.core.frame.DataFrame'>\n",
      "RangeIndex: 378 entries, 0 to 377\n",
      "Data columns (total 9 columns):\n",
      " #   Column               Non-Null Count  Dtype \n",
      "---  ------               --------------  ----- \n",
      " 0   id                   378 non-null    int64 \n",
      " 1   kode_provinsi        378 non-null    int64 \n",
      " 2   nama_provinsi        378 non-null    object\n",
      " 3   kode_kabupaten_kota  378 non-null    int64 \n",
      " 4   nama_kabupaten_kota  378 non-null    object\n",
      " 5   jenis_kelamin        378 non-null    object\n",
      " 6   jumlah_kasus         378 non-null    int64 \n",
      " 7   satuan               378 non-null    object\n",
      " 8   tahun                378 non-null    int64 \n",
      "dtypes: int64(5), object(4)\n",
      "memory usage: 26.7+ KB\n",
      "----------------------\n",
      "<class 'pandas.core.frame.DataFrame'>\n",
      "RangeIndex: 378 entries, 0 to 377\n",
      "Data columns (total 9 columns):\n",
      " #   Column                  Non-Null Count  Dtype \n",
      "---  ------                  --------------  ----- \n",
      " 0   id                      378 non-null    int64 \n",
      " 1   kode_provinsi           378 non-null    int64 \n",
      " 2   nama_provinsi           378 non-null    object\n",
      " 3   kode_kabupaten_kota     378 non-null    int64 \n",
      " 4   nama_kabupaten_kota     378 non-null    object\n",
      " 5   jenis_kelamin           378 non-null    object\n",
      " 6   jumlah_kasus_meninggal  378 non-null    int64 \n",
      " 7   satuan                  378 non-null    object\n",
      " 8   tahun                   378 non-null    int64 \n",
      "dtypes: int64(5), object(4)\n",
      "memory usage: 26.7+ KB\n"
     ]
    }
   ],
   "source": [
    "#Cek Missing value pada masing-masing dataset\n",
    "df1.info()\n",
    "print('----------------------')\n",
    "df2.info()"
   ]
  },
  {
   "cell_type": "code",
   "execution_count": 4,
   "metadata": {},
   "outputs": [
    {
     "name": "stdout",
     "output_type": "stream",
     "text": [
      "Dataset 1\n",
      "id                     0\n",
      "kode_provinsi          0\n",
      "nama_provinsi          0\n",
      "kode_kabupaten_kota    0\n",
      "nama_kabupaten_kota    0\n",
      "jenis_kelamin          0\n",
      "jumlah_kasus           0\n",
      "satuan                 0\n",
      "tahun                  0\n",
      "dtype: int64\n",
      "\n",
      "--------------------\n",
      "Dataset 2\n",
      "id                        0\n",
      "kode_provinsi             0\n",
      "nama_provinsi             0\n",
      "kode_kabupaten_kota       0\n",
      "nama_kabupaten_kota       0\n",
      "jenis_kelamin             0\n",
      "jumlah_kasus_meninggal    0\n",
      "satuan                    0\n",
      "tahun                     0\n",
      "dtype: int64\n"
     ]
    }
   ],
   "source": [
    "#Cek Detail missing value pada setiap kolom dataset\n",
    "print('Dataset 1')\n",
    "print(df1.isna().sum())\n",
    "print()\n",
    "print('--------------------')\n",
    "print('Dataset 2')\n",
    "print(df2.isna().sum())"
   ]
  },
  {
   "cell_type": "code",
   "execution_count": 5,
   "metadata": {},
   "outputs": [
    {
     "data": {
      "text/html": [
       "<div>\n",
       "<style scoped>\n",
       "    .dataframe tbody tr th:only-of-type {\n",
       "        vertical-align: middle;\n",
       "    }\n",
       "\n",
       "    .dataframe tbody tr th {\n",
       "        vertical-align: top;\n",
       "    }\n",
       "\n",
       "    .dataframe thead th {\n",
       "        text-align: right;\n",
       "    }\n",
       "</style>\n",
       "<table border=\"1\" class=\"dataframe\">\n",
       "  <thead>\n",
       "    <tr style=\"text-align: right;\">\n",
       "      <th></th>\n",
       "      <th>id</th>\n",
       "      <th>kode_provinsi</th>\n",
       "      <th>nama_provinsi</th>\n",
       "      <th>kode_kabupaten_kota</th>\n",
       "      <th>nama_kabupaten_kota</th>\n",
       "      <th>jenis_kelamin</th>\n",
       "      <th>jumlah_kasus</th>\n",
       "      <th>satuan</th>\n",
       "      <th>tahun</th>\n",
       "    </tr>\n",
       "  </thead>\n",
       "  <tbody>\n",
       "    <tr>\n",
       "      <th>0</th>\n",
       "      <td>1</td>\n",
       "      <td>32</td>\n",
       "      <td>JAWA BARAT</td>\n",
       "      <td>3201</td>\n",
       "      <td>KABUPATEN BOGOR</td>\n",
       "      <td>LAKI-LAKI</td>\n",
       "      <td>915</td>\n",
       "      <td>JIWA</td>\n",
       "      <td>2014</td>\n",
       "    </tr>\n",
       "    <tr>\n",
       "      <th>1</th>\n",
       "      <td>2</td>\n",
       "      <td>32</td>\n",
       "      <td>JAWA BARAT</td>\n",
       "      <td>3201</td>\n",
       "      <td>KABUPATEN BOGOR</td>\n",
       "      <td>PEREMPUAN</td>\n",
       "      <td>919</td>\n",
       "      <td>JIWA</td>\n",
       "      <td>2014</td>\n",
       "    </tr>\n",
       "    <tr>\n",
       "      <th>2</th>\n",
       "      <td>3</td>\n",
       "      <td>32</td>\n",
       "      <td>JAWA BARAT</td>\n",
       "      <td>3202</td>\n",
       "      <td>KABUPATEN SUKABUMI</td>\n",
       "      <td>LAKI-LAKI</td>\n",
       "      <td>409</td>\n",
       "      <td>JIWA</td>\n",
       "      <td>2014</td>\n",
       "    </tr>\n",
       "  </tbody>\n",
       "</table>\n",
       "</div>"
      ],
      "text/plain": [
       "   id  kode_provinsi nama_provinsi  kode_kabupaten_kota nama_kabupaten_kota  \\\n",
       "0   1             32    JAWA BARAT                 3201     KABUPATEN BOGOR   \n",
       "1   2             32    JAWA BARAT                 3201     KABUPATEN BOGOR   \n",
       "2   3             32    JAWA BARAT                 3202  KABUPATEN SUKABUMI   \n",
       "\n",
       "  jenis_kelamin  jumlah_kasus satuan  tahun  \n",
       "0     LAKI-LAKI           915   JIWA   2014  \n",
       "1     PEREMPUAN           919   JIWA   2014  \n",
       "2     LAKI-LAKI           409   JIWA   2014  "
      ]
     },
     "execution_count": 5,
     "metadata": {},
     "output_type": "execute_result"
    }
   ],
   "source": [
    "df1.head(3)"
   ]
  },
  {
   "cell_type": "code",
   "execution_count": 6,
   "metadata": {},
   "outputs": [
    {
     "data": {
      "text/html": [
       "<div>\n",
       "<style scoped>\n",
       "    .dataframe tbody tr th:only-of-type {\n",
       "        vertical-align: middle;\n",
       "    }\n",
       "\n",
       "    .dataframe tbody tr th {\n",
       "        vertical-align: top;\n",
       "    }\n",
       "\n",
       "    .dataframe thead th {\n",
       "        text-align: right;\n",
       "    }\n",
       "</style>\n",
       "<table border=\"1\" class=\"dataframe\">\n",
       "  <thead>\n",
       "    <tr style=\"text-align: right;\">\n",
       "      <th></th>\n",
       "      <th>id</th>\n",
       "      <th>kode_provinsi</th>\n",
       "      <th>nama_provinsi</th>\n",
       "      <th>kode_kabupaten_kota</th>\n",
       "      <th>nama_kabupaten_kota</th>\n",
       "      <th>jenis_kelamin</th>\n",
       "      <th>jumlah_kasus</th>\n",
       "      <th>jumlah_kasus_meninggal</th>\n",
       "      <th>satuan</th>\n",
       "      <th>tahun</th>\n",
       "    </tr>\n",
       "  </thead>\n",
       "  <tbody>\n",
       "    <tr>\n",
       "      <th>0</th>\n",
       "      <td>1</td>\n",
       "      <td>32</td>\n",
       "      <td>JAWA BARAT</td>\n",
       "      <td>3201</td>\n",
       "      <td>KABUPATEN BOGOR</td>\n",
       "      <td>LAKI-LAKI</td>\n",
       "      <td>915</td>\n",
       "      <td>9</td>\n",
       "      <td>JIWA</td>\n",
       "      <td>2014</td>\n",
       "    </tr>\n",
       "    <tr>\n",
       "      <th>1</th>\n",
       "      <td>2</td>\n",
       "      <td>32</td>\n",
       "      <td>JAWA BARAT</td>\n",
       "      <td>3201</td>\n",
       "      <td>KABUPATEN BOGOR</td>\n",
       "      <td>PEREMPUAN</td>\n",
       "      <td>919</td>\n",
       "      <td>20</td>\n",
       "      <td>JIWA</td>\n",
       "      <td>2014</td>\n",
       "    </tr>\n",
       "    <tr>\n",
       "      <th>2</th>\n",
       "      <td>3</td>\n",
       "      <td>32</td>\n",
       "      <td>JAWA BARAT</td>\n",
       "      <td>3202</td>\n",
       "      <td>KABUPATEN SUKABUMI</td>\n",
       "      <td>LAKI-LAKI</td>\n",
       "      <td>409</td>\n",
       "      <td>6</td>\n",
       "      <td>JIWA</td>\n",
       "      <td>2014</td>\n",
       "    </tr>\n",
       "    <tr>\n",
       "      <th>3</th>\n",
       "      <td>4</td>\n",
       "      <td>32</td>\n",
       "      <td>JAWA BARAT</td>\n",
       "      <td>3202</td>\n",
       "      <td>KABUPATEN SUKABUMI</td>\n",
       "      <td>PEREMPUAN</td>\n",
       "      <td>295</td>\n",
       "      <td>2</td>\n",
       "      <td>JIWA</td>\n",
       "      <td>2014</td>\n",
       "    </tr>\n",
       "    <tr>\n",
       "      <th>4</th>\n",
       "      <td>5</td>\n",
       "      <td>32</td>\n",
       "      <td>JAWA BARAT</td>\n",
       "      <td>3203</td>\n",
       "      <td>KABUPATEN CIANJUR</td>\n",
       "      <td>LAKI-LAKI</td>\n",
       "      <td>200</td>\n",
       "      <td>2</td>\n",
       "      <td>JIWA</td>\n",
       "      <td>2014</td>\n",
       "    </tr>\n",
       "    <tr>\n",
       "      <th>...</th>\n",
       "      <td>...</td>\n",
       "      <td>...</td>\n",
       "      <td>...</td>\n",
       "      <td>...</td>\n",
       "      <td>...</td>\n",
       "      <td>...</td>\n",
       "      <td>...</td>\n",
       "      <td>...</td>\n",
       "      <td>...</td>\n",
       "      <td>...</td>\n",
       "    </tr>\n",
       "    <tr>\n",
       "      <th>373</th>\n",
       "      <td>374</td>\n",
       "      <td>32</td>\n",
       "      <td>JAWA BARAT</td>\n",
       "      <td>3277</td>\n",
       "      <td>KOTA CIMAHI</td>\n",
       "      <td>PEREMPUAN</td>\n",
       "      <td>222</td>\n",
       "      <td>3</td>\n",
       "      <td>JIWA</td>\n",
       "      <td>2020</td>\n",
       "    </tr>\n",
       "    <tr>\n",
       "      <th>374</th>\n",
       "      <td>375</td>\n",
       "      <td>32</td>\n",
       "      <td>JAWA BARAT</td>\n",
       "      <td>3278</td>\n",
       "      <td>KOTA TASIKMALAYA</td>\n",
       "      <td>LAKI-LAKI</td>\n",
       "      <td>691</td>\n",
       "      <td>8</td>\n",
       "      <td>JIWA</td>\n",
       "      <td>2020</td>\n",
       "    </tr>\n",
       "    <tr>\n",
       "      <th>375</th>\n",
       "      <td>376</td>\n",
       "      <td>32</td>\n",
       "      <td>JAWA BARAT</td>\n",
       "      <td>3278</td>\n",
       "      <td>KOTA TASIKMALAYA</td>\n",
       "      <td>PEREMPUAN</td>\n",
       "      <td>718</td>\n",
       "      <td>12</td>\n",
       "      <td>JIWA</td>\n",
       "      <td>2020</td>\n",
       "    </tr>\n",
       "    <tr>\n",
       "      <th>376</th>\n",
       "      <td>377</td>\n",
       "      <td>32</td>\n",
       "      <td>JAWA BARAT</td>\n",
       "      <td>3279</td>\n",
       "      <td>KOTA BANJAR</td>\n",
       "      <td>LAKI-LAKI</td>\n",
       "      <td>69</td>\n",
       "      <td>2</td>\n",
       "      <td>JIWA</td>\n",
       "      <td>2020</td>\n",
       "    </tr>\n",
       "    <tr>\n",
       "      <th>377</th>\n",
       "      <td>378</td>\n",
       "      <td>32</td>\n",
       "      <td>JAWA BARAT</td>\n",
       "      <td>3279</td>\n",
       "      <td>KOTA BANJAR</td>\n",
       "      <td>PEREMPUAN</td>\n",
       "      <td>77</td>\n",
       "      <td>1</td>\n",
       "      <td>JIWA</td>\n",
       "      <td>2020</td>\n",
       "    </tr>\n",
       "  </tbody>\n",
       "</table>\n",
       "<p>378 rows × 10 columns</p>\n",
       "</div>"
      ],
      "text/plain": [
       "      id  kode_provinsi nama_provinsi  kode_kabupaten_kota  \\\n",
       "0      1             32    JAWA BARAT                 3201   \n",
       "1      2             32    JAWA BARAT                 3201   \n",
       "2      3             32    JAWA BARAT                 3202   \n",
       "3      4             32    JAWA BARAT                 3202   \n",
       "4      5             32    JAWA BARAT                 3203   \n",
       "..   ...            ...           ...                  ...   \n",
       "373  374             32    JAWA BARAT                 3277   \n",
       "374  375             32    JAWA BARAT                 3278   \n",
       "375  376             32    JAWA BARAT                 3278   \n",
       "376  377             32    JAWA BARAT                 3279   \n",
       "377  378             32    JAWA BARAT                 3279   \n",
       "\n",
       "    nama_kabupaten_kota jenis_kelamin  jumlah_kasus  jumlah_kasus_meninggal  \\\n",
       "0       KABUPATEN BOGOR     LAKI-LAKI           915                       9   \n",
       "1       KABUPATEN BOGOR     PEREMPUAN           919                      20   \n",
       "2    KABUPATEN SUKABUMI     LAKI-LAKI           409                       6   \n",
       "3    KABUPATEN SUKABUMI     PEREMPUAN           295                       2   \n",
       "4     KABUPATEN CIANJUR     LAKI-LAKI           200                       2   \n",
       "..                  ...           ...           ...                     ...   \n",
       "373         KOTA CIMAHI     PEREMPUAN           222                       3   \n",
       "374    KOTA TASIKMALAYA     LAKI-LAKI           691                       8   \n",
       "375    KOTA TASIKMALAYA     PEREMPUAN           718                      12   \n",
       "376         KOTA BANJAR     LAKI-LAKI            69                       2   \n",
       "377         KOTA BANJAR     PEREMPUAN            77                       1   \n",
       "\n",
       "    satuan  tahun  \n",
       "0     JIWA   2014  \n",
       "1     JIWA   2014  \n",
       "2     JIWA   2014  \n",
       "3     JIWA   2014  \n",
       "4     JIWA   2014  \n",
       "..     ...    ...  \n",
       "373   JIWA   2020  \n",
       "374   JIWA   2020  \n",
       "375   JIWA   2020  \n",
       "376   JIWA   2020  \n",
       "377   JIWA   2020  \n",
       "\n",
       "[378 rows x 10 columns]"
      ]
     },
     "execution_count": 6,
     "metadata": {},
     "output_type": "execute_result"
    }
   ],
   "source": [
    "\n",
    "#Menggabungkan 2 Dataset menjadi variabel data\n",
    "data = pd.merge(df1, df2, on=['id', 'kode_provinsi', 'nama_provinsi', 'kode_kabupaten_kota', 'nama_kabupaten_kota', 'jenis_kelamin'])\n",
    "#Menghapus kolom tahun dan satuan yang terulang\n",
    "data = data.drop(columns=[col for col in data.columns if 'tahun_x' in col])\n",
    "data = data.drop(columns=[col for col in data.columns if 'satuan_x' in col])\n",
    "#Mengganti nama kolom yang satuan_y dan tahun_y menjadi satuan dan tahun\n",
    "data = data.rename({'satuan_y' : 'satuan'}, axis=1)\n",
    "data = data.rename({'tahun_y' : 'tahun'}, axis=1)\n",
    "data\n"
   ]
  },
  {
   "cell_type": "code",
   "execution_count": 7,
   "metadata": {},
   "outputs": [
    {
     "name": "stdout",
     "output_type": "stream",
     "text": [
      "<class 'pandas.core.frame.DataFrame'>\n",
      "Int64Index: 378 entries, 0 to 377\n",
      "Data columns (total 10 columns):\n",
      " #   Column                  Non-Null Count  Dtype \n",
      "---  ------                  --------------  ----- \n",
      " 0   id                      378 non-null    int64 \n",
      " 1   kode_provinsi           378 non-null    int64 \n",
      " 2   nama_provinsi           378 non-null    object\n",
      " 3   kode_kabupaten_kota     378 non-null    int64 \n",
      " 4   nama_kabupaten_kota     378 non-null    object\n",
      " 5   jenis_kelamin           378 non-null    object\n",
      " 6   jumlah_kasus            378 non-null    int64 \n",
      " 7   jumlah_kasus_meninggal  378 non-null    int64 \n",
      " 8   satuan                  378 non-null    object\n",
      " 9   tahun                   378 non-null    int64 \n",
      "dtypes: int64(6), object(4)\n",
      "memory usage: 32.5+ KB\n"
     ]
    }
   ],
   "source": [
    "data.info()"
   ]
  },
  {
   "cell_type": "code",
   "execution_count": 8,
   "metadata": {},
   "outputs": [
    {
     "name": "stdout",
     "output_type": "stream",
     "text": [
      "id                        0\n",
      "kode_provinsi             0\n",
      "nama_provinsi             0\n",
      "kode_kabupaten_kota       0\n",
      "nama_kabupaten_kota       0\n",
      "jenis_kelamin             0\n",
      "jumlah_kasus              0\n",
      "jumlah_kasus_meninggal    0\n",
      "satuan                    0\n",
      "tahun                     0\n",
      "dtype: int64\n"
     ]
    }
   ],
   "source": [
    "print(data.isna().sum())"
   ]
  },
  {
   "cell_type": "markdown",
   "metadata": {},
   "source": [
    "Visualiasi Data"
   ]
  },
  {
   "cell_type": "code",
   "execution_count": 19,
   "metadata": {},
   "outputs": [
    {
     "name": "stdout",
     "output_type": "stream",
     "text": [
      "jenis_kelamin\n",
      "LAKI-LAKI    76894\n",
      "PEREMPUAN    69750\n",
      "Name: jumlah_kasus, dtype: int64\n"
     ]
    },
    {
     "data": {
      "image/png": "[encoded data removed]",
      "text/plain": [
       "<Figure size 600x600 with 1 Axes>"
      ]
     },
     "metadata": {},
     "output_type": "display_data"
    }
   ],
   "source": [
    "# Visualisasi Pie Chart Perbandingan Gender yang terkena kasus DBD\n",
    "x = data.groupby(['jenis_kelamin'])['jumlah_kasus'].sum()\n",
    "y = ['Laki-Laki', 'Perempuan']\n",
    "fig, xy = plt.subplots(figsize=(6, 6))\n",
    "print(x)\n",
    "xy.set_title('Perbandingan Kasus DBD ')\n",
    "xy.pie(x, labels=y, autopct='%.1f%%', wedgeprops={'linewidth': 3.0, 'edgecolor': 'black'},\n",
    "       textprops={'size': 'x-large'})\n",
    "plt.tight_layout()"
   ]
  },
  {
   "cell_type": "code",
   "execution_count": 20,
   "metadata": {},
   "outputs": [
    {
     "name": "stdout",
     "output_type": "stream",
     "text": [
      "jenis_kelamin\n",
      "LAKI-LAKI    528\n",
      "PEREMPUAN    601\n",
      "Name: jumlah_kasus_meninggal, dtype: int64\n"
     ]
    },
    {
     "data": {
      "image/png": "[encoded data removed]",
      "text/plain": [
       "<Figure size 600x600 with 1 Axes>"
      ]
     },
     "metadata": {},
     "output_type": "display_data"
    }
   ],
   "source": [
    "#Visualisasi Pie Chart perbandingan Gender yang Meninggal dikarenakan kasus DBD\n",
    "x = data.groupby(['jenis_kelamin'])['jumlah_kasus_meninggal'].sum()\n",
    "y = ['Laki-Laki', 'Perempuan']\n",
    "fig, xy = plt.subplots(figsize=(6, 6))\n",
    "print(x)\n",
    "xy.set_title('Perbandingan Meninggal')\n",
    "xy.pie(x, labels=y, autopct='%.1f%%', wedgeprops={'linewidth': 3.0, 'edgecolor': 'black'},\n",
    "       textprops={'size': 'x-large'})\n",
    "plt.tight_layout()"
   ]
  },
  {
   "cell_type": "code",
   "execution_count": 11,
   "metadata": {},
   "outputs": [
    {
     "data": {
      "text/plain": [
       "nama_kabupaten_kota\n",
       "KOTA BANDUNG               24113\n",
       "KABUPATEN BANDUNG          11079\n",
       "KOTA BEKASI                10965\n",
       "KOTA DEPOK                 10234\n",
       "KABUPATEN BOGOR             8782\n",
       "KABUPATEN BANDUNG BARAT     6970\n",
       "KABUPATEN CIREBON           6649\n",
       "KOTA BOGOR                  5435\n",
       "KABUPATEN KUNINGAN          5214\n",
       "KOTA TASIKMALAYA            4978\n",
       "KABUPATEN BEKASI            4501\n",
       "KOTA SUKABUMI               4467\n",
       "KOTA CIMAHI                 4359\n",
       "KABUPATEN SUMEDANG          4101\n",
       "KABUPATEN KARAWANG          4070\n",
       "KABUPATEN GARUT             3508\n",
       "KABUPATEN SUKABUMI          3508\n",
       "KABUPATEN INDRAMAYU         3387\n",
       "KABUPATEN CIANJUR           3110\n",
       "KABUPATEN PURWAKARTA        2994\n",
       "KABUPATEN CIAMIS            2992\n",
       "KABUPATEN SUBANG            2974\n",
       "KABUPATEN MAJALENGKA        2646\n",
       "KOTA CIREBON                2032\n",
       "KABUPATEN TASIKMALAYA       1923\n",
       "KOTA BANJAR                  877\n",
       "KABUPATEN PANGANDARAN        776\n",
       "Name: jumlah_kasus, dtype: int64"
      ]
     },
     "execution_count": 11,
     "metadata": {},
     "output_type": "execute_result"
    }
   ],
   "source": [
    "x = data.groupby(['nama_kabupaten_kota'])['jumlah_kasus'].sum().sort_values(ascending=False)\n",
    "x\n"
   ]
  },
  {
   "cell_type": "code",
   "execution_count": 12,
   "metadata": {},
   "outputs": [
    {
     "data": {
      "text/plain": [
       "nama_kabupaten_kota\n",
       "KABUPATEN BOGOR            178\n",
       "KABUPATEN CIREBON          134\n",
       "KABUPATEN INDRAMAYU        122\n",
       "KOTA BEKASI                 86\n",
       "KOTA BANDUNG                64\n",
       "KABUPATEN BANDUNG           54\n",
       "KOTA BOGOR                  53\n",
       "KOTA TASIKMALAYA            44\n",
       "KABUPATEN BEKASI            41\n",
       "KABUPATEN KARAWANG          34\n",
       "KABUPATEN SUBANG            33\n",
       "KABUPATEN CIANJUR           32\n",
       "KABUPATEN KUNINGAN          27\n",
       "KABUPATEN SUKABUMI          27\n",
       "KOTA SUKABUMI               25\n",
       "KABUPATEN BANDUNG BARAT     22\n",
       "KABUPATEN SUMEDANG          22\n",
       "KABUPATEN MAJALENGKA        21\n",
       "KOTA CIREBON                19\n",
       "KOTA DEPOK                  18\n",
       "KOTA CIMAHI                 18\n",
       "KABUPATEN TASIKMALAYA       14\n",
       "KOTA BANJAR                 12\n",
       "KABUPATEN CIAMIS            11\n",
       "KABUPATEN GARUT              9\n",
       "KABUPATEN PANGANDARAN        8\n",
       "KABUPATEN PURWAKARTA         1\n",
       "Name: jumlah_kasus_meninggal, dtype: int64"
      ]
     },
     "execution_count": 12,
     "metadata": {},
     "output_type": "execute_result"
    }
   ],
   "source": [
    "x = data.groupby(['nama_kabupaten_kota'])['jumlah_kasus_meninggal'].sum().sort_values(ascending=False)\n",
    "x"
   ]
  },
  {
   "cell_type": "markdown",
   "metadata": {},
   "source": [
    "Prosesing Data"
   ]
  },
  {
   "cell_type": "code",
   "execution_count": 13,
   "metadata": {},
   "outputs": [
    {
     "name": "stdout",
     "output_type": "stream",
     "text": [
      "<class 'pandas.core.frame.DataFrame'>\n",
      "Int64Index: 378 entries, 0 to 377\n",
      "Data columns (total 10 columns):\n",
      " #   Column                  Non-Null Count  Dtype \n",
      "---  ------                  --------------  ----- \n",
      " 0   id                      378 non-null    int64 \n",
      " 1   kode_provinsi           378 non-null    int64 \n",
      " 2   nama_provinsi           378 non-null    object\n",
      " 3   kode_kabupaten_kota     378 non-null    int64 \n",
      " 4   nama_kabupaten_kota     378 non-null    object\n",
      " 5   jenis_kelamin           378 non-null    object\n",
      " 6   jumlah_kasus            378 non-null    int64 \n",
      " 7   jumlah_kasus_meninggal  378 non-null    int64 \n",
      " 8   satuan                  378 non-null    object\n",
      " 9   tahun                   378 non-null    int64 \n",
      "dtypes: int64(6), object(4)\n",
      "memory usage: 32.5+ KB\n"
     ]
    }
   ],
   "source": [
    "#Cek missing value\n",
    "data.info()"
   ]
  },
  {
   "cell_type": "markdown",
   "metadata": {},
   "source": [
    "Dikarenakan tidak adanya missing value, maka kita dapat memproses data tersebut, seperti mencari Outlier pada data tersebut."
   ]
  },
  {
   "cell_type": "code",
   "execution_count": 14,
   "metadata": {},
   "outputs": [
    {
     "data": {
      "text/html": [
       "<div>\n",
       "<style scoped>\n",
       "    .dataframe tbody tr th:only-of-type {\n",
       "        vertical-align: middle;\n",
       "    }\n",
       "\n",
       "    .dataframe tbody tr th {\n",
       "        vertical-align: top;\n",
       "    }\n",
       "\n",
       "    .dataframe thead th {\n",
       "        text-align: right;\n",
       "    }\n",
       "</style>\n",
       "<table border=\"1\" class=\"dataframe\">\n",
       "  <thead>\n",
       "    <tr style=\"text-align: right;\">\n",
       "      <th></th>\n",
       "      <th>id</th>\n",
       "      <th>kode_provinsi</th>\n",
       "      <th>nama_provinsi</th>\n",
       "      <th>kode_kabupaten_kota</th>\n",
       "      <th>nama_kabupaten_kota</th>\n",
       "      <th>jenis_kelamin</th>\n",
       "      <th>jumlah_kasus</th>\n",
       "      <th>jumlah_kasus_meninggal</th>\n",
       "      <th>satuan</th>\n",
       "      <th>tahun</th>\n",
       "    </tr>\n",
       "  </thead>\n",
       "  <tbody>\n",
       "    <tr>\n",
       "      <th>0</th>\n",
       "      <td>1</td>\n",
       "      <td>32</td>\n",
       "      <td>JAWA BARAT</td>\n",
       "      <td>3201</td>\n",
       "      <td>KABUPATEN BOGOR</td>\n",
       "      <td>LAKI-LAKI</td>\n",
       "      <td>915</td>\n",
       "      <td>9</td>\n",
       "      <td>JIWA</td>\n",
       "      <td>2014</td>\n",
       "    </tr>\n",
       "    <tr>\n",
       "      <th>1</th>\n",
       "      <td>2</td>\n",
       "      <td>32</td>\n",
       "      <td>JAWA BARAT</td>\n",
       "      <td>3201</td>\n",
       "      <td>KABUPATEN BOGOR</td>\n",
       "      <td>PEREMPUAN</td>\n",
       "      <td>919</td>\n",
       "      <td>20</td>\n",
       "      <td>JIWA</td>\n",
       "      <td>2014</td>\n",
       "    </tr>\n",
       "    <tr>\n",
       "      <th>2</th>\n",
       "      <td>3</td>\n",
       "      <td>32</td>\n",
       "      <td>JAWA BARAT</td>\n",
       "      <td>3202</td>\n",
       "      <td>KABUPATEN SUKABUMI</td>\n",
       "      <td>LAKI-LAKI</td>\n",
       "      <td>409</td>\n",
       "      <td>6</td>\n",
       "      <td>JIWA</td>\n",
       "      <td>2014</td>\n",
       "    </tr>\n",
       "    <tr>\n",
       "      <th>3</th>\n",
       "      <td>4</td>\n",
       "      <td>32</td>\n",
       "      <td>JAWA BARAT</td>\n",
       "      <td>3202</td>\n",
       "      <td>KABUPATEN SUKABUMI</td>\n",
       "      <td>PEREMPUAN</td>\n",
       "      <td>295</td>\n",
       "      <td>2</td>\n",
       "      <td>JIWA</td>\n",
       "      <td>2014</td>\n",
       "    </tr>\n",
       "    <tr>\n",
       "      <th>4</th>\n",
       "      <td>5</td>\n",
       "      <td>32</td>\n",
       "      <td>JAWA BARAT</td>\n",
       "      <td>3203</td>\n",
       "      <td>KABUPATEN CIANJUR</td>\n",
       "      <td>LAKI-LAKI</td>\n",
       "      <td>200</td>\n",
       "      <td>2</td>\n",
       "      <td>JIWA</td>\n",
       "      <td>2014</td>\n",
       "    </tr>\n",
       "    <tr>\n",
       "      <th>...</th>\n",
       "      <td>...</td>\n",
       "      <td>...</td>\n",
       "      <td>...</td>\n",
       "      <td>...</td>\n",
       "      <td>...</td>\n",
       "      <td>...</td>\n",
       "      <td>...</td>\n",
       "      <td>...</td>\n",
       "      <td>...</td>\n",
       "      <td>...</td>\n",
       "    </tr>\n",
       "    <tr>\n",
       "      <th>373</th>\n",
       "      <td>374</td>\n",
       "      <td>32</td>\n",
       "      <td>JAWA BARAT</td>\n",
       "      <td>3277</td>\n",
       "      <td>KOTA CIMAHI</td>\n",
       "      <td>PEREMPUAN</td>\n",
       "      <td>222</td>\n",
       "      <td>3</td>\n",
       "      <td>JIWA</td>\n",
       "      <td>2020</td>\n",
       "    </tr>\n",
       "    <tr>\n",
       "      <th>374</th>\n",
       "      <td>375</td>\n",
       "      <td>32</td>\n",
       "      <td>JAWA BARAT</td>\n",
       "      <td>3278</td>\n",
       "      <td>KOTA TASIKMALAYA</td>\n",
       "      <td>LAKI-LAKI</td>\n",
       "      <td>691</td>\n",
       "      <td>8</td>\n",
       "      <td>JIWA</td>\n",
       "      <td>2020</td>\n",
       "    </tr>\n",
       "    <tr>\n",
       "      <th>375</th>\n",
       "      <td>376</td>\n",
       "      <td>32</td>\n",
       "      <td>JAWA BARAT</td>\n",
       "      <td>3278</td>\n",
       "      <td>KOTA TASIKMALAYA</td>\n",
       "      <td>PEREMPUAN</td>\n",
       "      <td>718</td>\n",
       "      <td>12</td>\n",
       "      <td>JIWA</td>\n",
       "      <td>2020</td>\n",
       "    </tr>\n",
       "    <tr>\n",
       "      <th>376</th>\n",
       "      <td>377</td>\n",
       "      <td>32</td>\n",
       "      <td>JAWA BARAT</td>\n",
       "      <td>3279</td>\n",
       "      <td>KOTA BANJAR</td>\n",
       "      <td>LAKI-LAKI</td>\n",
       "      <td>69</td>\n",
       "      <td>2</td>\n",
       "      <td>JIWA</td>\n",
       "      <td>2020</td>\n",
       "    </tr>\n",
       "    <tr>\n",
       "      <th>377</th>\n",
       "      <td>378</td>\n",
       "      <td>32</td>\n",
       "      <td>JAWA BARAT</td>\n",
       "      <td>3279</td>\n",
       "      <td>KOTA BANJAR</td>\n",
       "      <td>PEREMPUAN</td>\n",
       "      <td>77</td>\n",
       "      <td>1</td>\n",
       "      <td>JIWA</td>\n",
       "      <td>2020</td>\n",
       "    </tr>\n",
       "  </tbody>\n",
       "</table>\n",
       "<p>378 rows × 10 columns</p>\n",
       "</div>"
      ],
      "text/plain": [
       "      id  kode_provinsi nama_provinsi  kode_kabupaten_kota  \\\n",
       "0      1             32    JAWA BARAT                 3201   \n",
       "1      2             32    JAWA BARAT                 3201   \n",
       "2      3             32    JAWA BARAT                 3202   \n",
       "3      4             32    JAWA BARAT                 3202   \n",
       "4      5             32    JAWA BARAT                 3203   \n",
       "..   ...            ...           ...                  ...   \n",
       "373  374             32    JAWA BARAT                 3277   \n",
       "374  375             32    JAWA BARAT                 3278   \n",
       "375  376             32    JAWA BARAT                 3278   \n",
       "376  377             32    JAWA BARAT                 3279   \n",
       "377  378             32    JAWA BARAT                 3279   \n",
       "\n",
       "    nama_kabupaten_kota jenis_kelamin  jumlah_kasus  jumlah_kasus_meninggal  \\\n",
       "0       KABUPATEN BOGOR     LAKI-LAKI           915                       9   \n",
       "1       KABUPATEN BOGOR     PEREMPUAN           919                      20   \n",
       "2    KABUPATEN SUKABUMI     LAKI-LAKI           409                       6   \n",
       "3    KABUPATEN SUKABUMI     PEREMPUAN           295                       2   \n",
       "4     KABUPATEN CIANJUR     LAKI-LAKI           200                       2   \n",
       "..                  ...           ...           ...                     ...   \n",
       "373         KOTA CIMAHI     PEREMPUAN           222                       3   \n",
       "374    KOTA TASIKMALAYA     LAKI-LAKI           691                       8   \n",
       "375    KOTA TASIKMALAYA     PEREMPUAN           718                      12   \n",
       "376         KOTA BANJAR     LAKI-LAKI            69                       2   \n",
       "377         KOTA BANJAR     PEREMPUAN            77                       1   \n",
       "\n",
       "    satuan  tahun  \n",
       "0     JIWA   2014  \n",
       "1     JIWA   2014  \n",
       "2     JIWA   2014  \n",
       "3     JIWA   2014  \n",
       "4     JIWA   2014  \n",
       "..     ...    ...  \n",
       "373   JIWA   2020  \n",
       "374   JIWA   2020  \n",
       "375   JIWA   2020  \n",
       "376   JIWA   2020  \n",
       "377   JIWA   2020  \n",
       "\n",
       "[378 rows x 10 columns]"
      ]
     },
     "execution_count": 14,
     "metadata": {},
     "output_type": "execute_result"
    }
   ],
   "source": [
    "data"
   ]
  },
  {
   "cell_type": "code",
   "execution_count": 15,
   "metadata": {},
   "outputs": [
    {
     "data": {
      "text/plain": [
       "<AxesSubplot: >"
      ]
     },
     "execution_count": 15,
     "metadata": {},
     "output_type": "execute_result"
    },
    {
     "data": {
      "image/png": "[encoded data removed]",
      "text/plain": [
       "<Figure size 640x480 with 1 Axes>"
      ]
     },
     "metadata": {},
     "output_type": "display_data"
    }
   ],
   "source": [
    "#Cek Outlier pada kolom Jumlah Kasus\n",
    "data.boxplot(column=['jumlah_kasus'], grid=False)\n"
   ]
  },
  {
   "cell_type": "code",
   "execution_count": 16,
   "metadata": {},
   "outputs": [
    {
     "data": {
      "text/plain": [
       "<AxesSubplot: >"
      ]
     },
     "execution_count": 16,
     "metadata": {},
     "output_type": "execute_result"
    },
    {
     "data": {
      "image/png": "[encoded data removed]",
      "text/plain": [
       "<Figure size 640x480 with 1 Axes>"
      ]
     },
     "metadata": {},
     "output_type": "display_data"
    }
   ],
   "source": [
    "#Cek Outlier pada kolom Jumlah Kasus Meninggal\n",
    "data.boxplot(column=['jumlah_kasus_meninggal'], grid=False)"
   ]
  },
  {
   "cell_type": "code",
   "execution_count": 17,
   "metadata": {},
   "outputs": [
    {
     "data": {
      "image/png": "[encoded data removed]",
      "text/plain": [
       "<Figure size 640x480 with 1 Axes>"
      ]
     },
     "metadata": {},
     "output_type": "display_data"
    }
   ],
   "source": [
    "ax = sns.boxplot(x='jenis_kelamin', y='jumlah_kasus', data=data)"
   ]
  },
  {
   "cell_type": "code",
   "execution_count": 18,
   "metadata": {},
   "outputs": [
    {
     "data": {
      "image/png": "[encoded data removed]",
      "text/plain": [
       "<Figure size 640x480 with 1 Axes>"
      ]
     },
     "metadata": {},
     "output_type": "display_data"
    }
   ],
   "source": [
    "ax = sns.boxplot(x='jenis_kelamin', y='jumlah_kasus_meninggal', data=data)"
   ]
  }
 ],
 "metadata": {
  "kernelspec": {
   "display_name": "Python 3.10.8 64-bit (microsoft store)",
   "language": "python",
   "name": "python3"
  },
  "language_info": {
   "codemirror_mode": {
    "name": "ipython",
    "version": 3
   },
   "file_extension": ".py",
   "mimetype": "text/x-python",
   "name": "python",
   "nbconvert_exporter": "python",
   "pygments_lexer": "ipython3",
   "version": "3.10.8"
  },
  "orig_nbformat": 4,
  "vscode": {
   "interpreter": {
    "hash": "84fd2673a0f847bf80637898000f9b4175f2ffd476d5f31b41a838c2acdb5b76"
   }
  }
 },
 "nbformat": 4,
 "nbformat_minor": 2
}
